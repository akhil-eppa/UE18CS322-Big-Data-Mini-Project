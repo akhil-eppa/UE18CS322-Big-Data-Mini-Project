{
 "metadata": {
  "language_info": {
   "codemirror_mode": {
    "name": "ipython",
    "version": 3
   },
   "file_extension": ".py",
   "mimetype": "text/x-python",
   "name": "python",
   "nbconvert_exporter": "python",
   "pygments_lexer": "ipython3",
   "version": "3.8.5-final"
  },
  "orig_nbformat": 2,
  "kernelspec": {
   "name": "python37564bit606cc4573ab345c2842e1e2908e70ee5",
   "display_name": "Python 3.7.5 64-bit"
  }
 },
 "nbformat": 4,
 "nbformat_minor": 2,
 "cells": [
  {
   "cell_type": "code",
   "execution_count": 22,
   "metadata": {},
   "outputs": [],
   "source": [
    "import pandas as pd\n",
    "import os\n",
    "import matplotlib.pyplot as plt\n",
    "import numpy as np"
   ]
  },
  {
   "cell_type": "code",
   "execution_count": 2,
   "metadata": {},
   "outputs": [
    {
     "output_type": "execute_result",
     "data": {
      "text/plain": [
       "'/disk2/Semester_5/Big_Data/Project/Repository/UE18CS322-Big-Data-Mini-Project/src/Analytics'"
      ]
     },
     "metadata": {},
     "execution_count": 2
    }
   ],
   "source": [
    "os.getcwd()"
   ]
  },
  {
   "cell_type": "code",
   "execution_count": 3,
   "metadata": {},
   "outputs": [],
   "source": [
    "RR_FOLDER_NAME = \"Round-Robin\"\n",
    "rr_jobs = pd.read_csv(os.path.join(f\"{RR_FOLDER_NAME}\", \"jobs.csv\"))\n",
    "rr_tasks = pd.read_csv(os.path.join(f\"{RR_FOLDER_NAME}\", \"tasks.csv\"))\n",
    "rr_tasks[\"TaskID\"] = rr_tasks[\"TaskID\"].astype(str)\n",
    "\n",
    "rr_workers_tasks = pd.read_csv(os.path.join(f\"{RR_FOLDER_NAME}\", \"workers.csv\"))\n",
    "rr_workers_tasks[\"TaskID\"] = rr_workers_tasks[\"TaskID\"].astype(str)"
   ]
  },
  {
   "cell_type": "code",
   "execution_count": 4,
   "metadata": {},
   "outputs": [
    {
     "output_type": "execute_result",
     "data": {
      "text/plain": [
       "   JobID    start_time      end_time  duration\n",
       "0      3  1.606864e+09  1.606864e+09  2.870033\n",
       "1      5  1.606864e+09  1.606864e+09  2.426442\n",
       "2      1  1.606864e+09  1.606864e+09  5.022451\n",
       "3      0  1.606864e+09  1.606864e+09  6.254915\n",
       "4      2  1.606864e+09  1.606864e+09  6.032045"
      ],
      "text/html": "<div>\n<style scoped>\n    .dataframe tbody tr th:only-of-type {\n        vertical-align: middle;\n    }\n\n    .dataframe tbody tr th {\n        vertical-align: top;\n    }\n\n    .dataframe thead th {\n        text-align: right;\n    }\n</style>\n<table border=\"1\" class=\"dataframe\">\n  <thead>\n    <tr style=\"text-align: right;\">\n      <th></th>\n      <th>JobID</th>\n      <th>start_time</th>\n      <th>end_time</th>\n      <th>duration</th>\n    </tr>\n  </thead>\n  <tbody>\n    <tr>\n      <th>0</th>\n      <td>3</td>\n      <td>1.606864e+09</td>\n      <td>1.606864e+09</td>\n      <td>2.870033</td>\n    </tr>\n    <tr>\n      <th>1</th>\n      <td>5</td>\n      <td>1.606864e+09</td>\n      <td>1.606864e+09</td>\n      <td>2.426442</td>\n    </tr>\n    <tr>\n      <th>2</th>\n      <td>1</td>\n      <td>1.606864e+09</td>\n      <td>1.606864e+09</td>\n      <td>5.022451</td>\n    </tr>\n    <tr>\n      <th>3</th>\n      <td>0</td>\n      <td>1.606864e+09</td>\n      <td>1.606864e+09</td>\n      <td>6.254915</td>\n    </tr>\n    <tr>\n      <th>4</th>\n      <td>2</td>\n      <td>1.606864e+09</td>\n      <td>1.606864e+09</td>\n      <td>6.032045</td>\n    </tr>\n  </tbody>\n</table>\n</div>"
     },
     "metadata": {},
     "execution_count": 4
    }
   ],
   "source": [
    "rr_jobs.head()"
   ]
  },
  {
   "cell_type": "code",
   "execution_count": 5,
   "metadata": {},
   "outputs": [
    {
     "output_type": "execute_result",
     "data": {
      "text/plain": [
       "   JobID TaskID    start_time      end_time  duration\n",
       "0      0   0_M2  1.606864e+09  1.606864e+09  0.031140\n",
       "1      0   0_M1  1.606864e+09  1.606864e+09  1.041750\n",
       "2      1   1_M2  1.606864e+09  1.606864e+09  0.024608\n",
       "3      0   0_M0  1.606864e+09  1.606864e+09  3.079931\n",
       "4      1   1_M0  1.606864e+09  1.606864e+09  1.910388"
      ],
      "text/html": "<div>\n<style scoped>\n    .dataframe tbody tr th:only-of-type {\n        vertical-align: middle;\n    }\n\n    .dataframe tbody tr th {\n        vertical-align: top;\n    }\n\n    .dataframe thead th {\n        text-align: right;\n    }\n</style>\n<table border=\"1\" class=\"dataframe\">\n  <thead>\n    <tr style=\"text-align: right;\">\n      <th></th>\n      <th>JobID</th>\n      <th>TaskID</th>\n      <th>start_time</th>\n      <th>end_time</th>\n      <th>duration</th>\n    </tr>\n  </thead>\n  <tbody>\n    <tr>\n      <th>0</th>\n      <td>0</td>\n      <td>0_M2</td>\n      <td>1.606864e+09</td>\n      <td>1.606864e+09</td>\n      <td>0.031140</td>\n    </tr>\n    <tr>\n      <th>1</th>\n      <td>0</td>\n      <td>0_M1</td>\n      <td>1.606864e+09</td>\n      <td>1.606864e+09</td>\n      <td>1.041750</td>\n    </tr>\n    <tr>\n      <th>2</th>\n      <td>1</td>\n      <td>1_M2</td>\n      <td>1.606864e+09</td>\n      <td>1.606864e+09</td>\n      <td>0.024608</td>\n    </tr>\n    <tr>\n      <th>3</th>\n      <td>0</td>\n      <td>0_M0</td>\n      <td>1.606864e+09</td>\n      <td>1.606864e+09</td>\n      <td>3.079931</td>\n    </tr>\n    <tr>\n      <th>4</th>\n      <td>1</td>\n      <td>1_M0</td>\n      <td>1.606864e+09</td>\n      <td>1.606864e+09</td>\n      <td>1.910388</td>\n    </tr>\n  </tbody>\n</table>\n</div>"
     },
     "metadata": {},
     "execution_count": 5
    }
   ],
   "source": [
    "rr_tasks.head()"
   ]
  },
  {
   "cell_type": "code",
   "execution_count": 6,
   "metadata": {},
   "outputs": [
    {
     "output_type": "execute_result",
     "data": {
      "text/plain": [
       "   JobID  WorkerID TaskID    start_time      end_time\n",
       "0      0         3   0_M2  1.606864e+09  1.606864e+09\n",
       "1      0         2   0_M1  1.606864e+09  1.606864e+09\n",
       "2      1         3   1_M2  1.606864e+09  1.606864e+09\n",
       "3      0         1   0_M0  1.606864e+09  1.606864e+09\n",
       "4      1         1   1_M0  1.606864e+09  1.606864e+09"
      ],
      "text/html": "<div>\n<style scoped>\n    .dataframe tbody tr th:only-of-type {\n        vertical-align: middle;\n    }\n\n    .dataframe tbody tr th {\n        vertical-align: top;\n    }\n\n    .dataframe thead th {\n        text-align: right;\n    }\n</style>\n<table border=\"1\" class=\"dataframe\">\n  <thead>\n    <tr style=\"text-align: right;\">\n      <th></th>\n      <th>JobID</th>\n      <th>WorkerID</th>\n      <th>TaskID</th>\n      <th>start_time</th>\n      <th>end_time</th>\n    </tr>\n  </thead>\n  <tbody>\n    <tr>\n      <th>0</th>\n      <td>0</td>\n      <td>3</td>\n      <td>0_M2</td>\n      <td>1.606864e+09</td>\n      <td>1.606864e+09</td>\n    </tr>\n    <tr>\n      <th>1</th>\n      <td>0</td>\n      <td>2</td>\n      <td>0_M1</td>\n      <td>1.606864e+09</td>\n      <td>1.606864e+09</td>\n    </tr>\n    <tr>\n      <th>2</th>\n      <td>1</td>\n      <td>3</td>\n      <td>1_M2</td>\n      <td>1.606864e+09</td>\n      <td>1.606864e+09</td>\n    </tr>\n    <tr>\n      <th>3</th>\n      <td>0</td>\n      <td>1</td>\n      <td>0_M0</td>\n      <td>1.606864e+09</td>\n      <td>1.606864e+09</td>\n    </tr>\n    <tr>\n      <th>4</th>\n      <td>1</td>\n      <td>1</td>\n      <td>1_M0</td>\n      <td>1.606864e+09</td>\n      <td>1.606864e+09</td>\n    </tr>\n  </tbody>\n</table>\n</div>"
     },
     "metadata": {},
     "execution_count": 6
    }
   ],
   "source": [
    "rr_workers_tasks.head()"
   ]
  },
  {
   "cell_type": "code",
   "execution_count": 7,
   "metadata": {},
   "outputs": [
    {
     "output_type": "execute_result",
     "data": {
      "text/plain": [
       "JobID           int64\n",
       "WorkerID        int64\n",
       "TaskID         object\n",
       "start_time    float64\n",
       "end_time      float64\n",
       "dtype: object"
      ]
     },
     "metadata": {},
     "execution_count": 7
    }
   ],
   "source": [
    "rr_workers_tasks.dtypes"
   ]
  },
  {
   "cell_type": "code",
   "execution_count": 8,
   "metadata": {},
   "outputs": [
    {
     "output_type": "execute_result",
     "data": {
      "text/plain": [
       "JobID           int64\n",
       "start_time    float64\n",
       "end_time      float64\n",
       "duration      float64\n",
       "dtype: object"
      ]
     },
     "metadata": {},
     "execution_count": 8
    }
   ],
   "source": [
    "rr_jobs.dtypes"
   ]
  },
  {
   "cell_type": "code",
   "execution_count": 9,
   "metadata": {},
   "outputs": [
    {
     "output_type": "execute_result",
     "data": {
      "text/plain": [
       "JobID           int64\n",
       "TaskID         object\n",
       "start_time    float64\n",
       "end_time      float64\n",
       "duration      float64\n",
       "dtype: object"
      ]
     },
     "metadata": {},
     "execution_count": 9
    }
   ],
   "source": [
    "rr_tasks.dtypes"
   ]
  },
  {
   "source": [
    "## mean and median task and job completion times"
   ],
   "cell_type": "markdown",
   "metadata": {}
  },
  {
   "cell_type": "code",
   "execution_count": 10,
   "metadata": {},
   "outputs": [
    {
     "output_type": "stream",
     "name": "stdout",
     "text": [
      "Mean task completion time: 1.827139174938202\nMedian task completion time: 1.6892112493515015\n"
     ]
    }
   ],
   "source": [
    "print(f\"Mean task completion time: {rr_tasks.duration.mean()}\")\n",
    "print(f\"Median task completion time: {rr_tasks.duration.median()}\")"
   ]
  },
  {
   "cell_type": "code",
   "execution_count": 11,
   "metadata": {},
   "outputs": [
    {
     "output_type": "stream",
     "name": "stdout",
     "text": [
      "Mean job completion time: 5.169074249267578\nMedian job completion time: 5.420117497444153\n"
     ]
    }
   ],
   "source": [
    "print(f\"Mean job completion time: {rr_jobs.duration.mean()}\")\n",
    "print(f\"Median job completion time: {rr_jobs.duration.median()}\")"
   ]
  },
  {
   "cell_type": "code",
   "execution_count": 13,
   "metadata": {},
   "outputs": [
    {
     "output_type": "execute_result",
     "data": {
      "text/plain": [
       "(1606863807.119388, 1606863818.4180934)"
      ]
     },
     "metadata": {},
     "execution_count": 13
    }
   ],
   "source": [
    "START_TIME = rr_workers_tasks.start_time.min()\n",
    "END_TIME = rr_workers_tasks.end_time.max()\n",
    "\n",
    "START_TIME, END_TIME"
   ]
  },
  {
   "cell_type": "code",
   "execution_count": 28,
   "metadata": {},
   "outputs": [
    {
     "output_type": "execute_result",
     "data": {
      "text/plain": [
       "{1606863806.119388: 0,\n",
       " 1606863807.119388: 1,\n",
       " 1606863808.119388: 2,\n",
       " 1606863809.119388: 7,\n",
       " 1606863810.119388: 12,\n",
       " 1606863811.119388: 9,\n",
       " 1606863812.119388: 10,\n",
       " 1606863813.119388: 13,\n",
       " 1606863814.119388: 9,\n",
       " 1606863815.119388: 8,\n",
       " 1606863816.119388: 6,\n",
       " 1606863817.119388: 4,\n",
       " 1606863818.119388: 1,\n",
       " 1606863819.119388: 0}"
      ]
     },
     "metadata": {},
     "execution_count": 28
    }
   ],
   "source": [
    "ROW_COUNT_INDEX = 0\n",
    "\n",
    "# SECOND_IN_REALITY = 1606863807.119388\n",
    "# rr_workers_tasks.loc[(rr_workers_tasks.start_time <= SECOND_IN_REALITY) & (SECOND_IN_REALITY <= rr_workers_tasks.end_time)].shape[ROW_COUNT_INDEX]\n",
    "TASK_ALIVE_COUNT = dict()\n",
    "TIME_RESOLUTION = 1\n",
    "WORKER_ID_LIST = rr_workers_tasks.WorkerID.unique().tolist()\n",
    "\n",
    "for SECOND_IN_REALITY in np.arange(START_TIME - 1, END_TIME + 1, step=TIME_RESOLUTION,  dtype=np.float64):\n",
    "    TASK_ALIVE_COUNT[SECOND_IN_REALITY] = rr_workers_tasks.loc[(rr_workers_tasks.start_time <= SECOND_IN_REALITY) &\n",
    "                                                               (SECOND_IN_REALITY <= rr_workers_tasks.end_time)]\\\n",
    "                                                               .shape[ROW_COUNT_INDEX]\n",
    "TASK_ALIVE_COUNT"
   ]
  },
  {
   "cell_type": "code",
   "execution_count": 29,
   "metadata": {},
   "outputs": [
    {
     "output_type": "execute_result",
     "data": {
      "text/plain": [
       "               0\n",
       "1.606864e+09   0\n",
       "1.606864e+09   1\n",
       "1.606864e+09   2\n",
       "1.606864e+09   7\n",
       "1.606864e+09  12\n",
       "1.606864e+09   9\n",
       "1.606864e+09  10\n",
       "1.606864e+09  13\n",
       "1.606864e+09   9\n",
       "1.606864e+09   8\n",
       "1.606864e+09   6\n",
       "1.606864e+09   4\n",
       "1.606864e+09   1\n",
       "1.606864e+09   0"
      ],
      "text/html": "<div>\n<style scoped>\n    .dataframe tbody tr th:only-of-type {\n        vertical-align: middle;\n    }\n\n    .dataframe tbody tr th {\n        vertical-align: top;\n    }\n\n    .dataframe thead th {\n        text-align: right;\n    }\n</style>\n<table border=\"1\" class=\"dataframe\">\n  <thead>\n    <tr style=\"text-align: right;\">\n      <th></th>\n      <th>0</th>\n    </tr>\n  </thead>\n  <tbody>\n    <tr>\n      <th>1.606864e+09</th>\n      <td>0</td>\n    </tr>\n    <tr>\n      <th>1.606864e+09</th>\n      <td>1</td>\n    </tr>\n    <tr>\n      <th>1.606864e+09</th>\n      <td>2</td>\n    </tr>\n    <tr>\n      <th>1.606864e+09</th>\n      <td>7</td>\n    </tr>\n    <tr>\n      <th>1.606864e+09</th>\n      <td>12</td>\n    </tr>\n    <tr>\n      <th>1.606864e+09</th>\n      <td>9</td>\n    </tr>\n    <tr>\n      <th>1.606864e+09</th>\n      <td>10</td>\n    </tr>\n    <tr>\n      <th>1.606864e+09</th>\n      <td>13</td>\n    </tr>\n    <tr>\n      <th>1.606864e+09</th>\n      <td>9</td>\n    </tr>\n    <tr>\n      <th>1.606864e+09</th>\n      <td>8</td>\n    </tr>\n    <tr>\n      <th>1.606864e+09</th>\n      <td>6</td>\n    </tr>\n    <tr>\n      <th>1.606864e+09</th>\n      <td>4</td>\n    </tr>\n    <tr>\n      <th>1.606864e+09</th>\n      <td>1</td>\n    </tr>\n    <tr>\n      <th>1.606864e+09</th>\n      <td>0</td>\n    </tr>\n  </tbody>\n</table>\n</div>"
     },
     "metadata": {},
     "execution_count": 29
    }
   ],
   "source": [
    "task_alive_df = pd.DataFrame.from_dict(TASK_ALIVE_COUNT, orient='index')\n",
    "\n",
    "task_alive_df"
   ]
  },
  {
   "cell_type": "code",
   "execution_count": null,
   "metadata": {},
   "outputs": [],
   "source": []
  }
 ]
}